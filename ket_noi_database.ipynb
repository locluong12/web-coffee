{
 "cells": [
  {
   "cell_type": "code",
   "execution_count": 25,
   "metadata": {},
   "outputs": [],
   "source": [
    "import pyodbc"
   ]
  },
  {
   "cell_type": "code",
   "execution_count": 26,
   "metadata": {},
   "outputs": [],
   "source": [
    "# Cấu hình thông tin kết nối\n",
    "server = r'DESKTOP-8H3JR7M\\LUONGLOC'            # Ví dụ: 'localhost' hoặc 'SERVER_NAME\\INSTANCE'\n",
    "database = r'CaPhe'\n",
    "username = r'sa'\n",
    "password = r'123456'\n",
    "\n",
    "conn_str = f'DRIVER={{ODBC Driver 17 for SQL Server}};SERVER={server};DATABASE={database};UID={username};PWD={password}'"
   ]
  },
  {
   "cell_type": "code",
   "execution_count": 27,
   "metadata": {},
   "outputs": [
    {
     "name": "stdout",
     "output_type": "stream",
     "text": [
      "Danh sách các bảng trong database:\n",
      "NhanVien\n",
      "NguyenLieu\n",
      "NhaCungCap\n",
      "KhachHang\n",
      "LoaiKhachHang\n",
      "ThucDon\n",
      "sysdiagrams\n",
      "LoaiHangHoa\n",
      "HoaDonBanHang\n",
      "TonKho\n",
      "CongThuc\n",
      "HinhAnh\n",
      "ChiTietHoaDon\n"
     ]
    }
   ],
   "source": [
    "conn = pyodbc.connect(conn_str)\n",
    "cursor = conn.cursor()\n",
    "\n",
    "# Truy vấn để lấy danh sách bảng\n",
    "cursor.execute(\"\"\"\n",
    "    SELECT TABLE_NAME \n",
    "    FROM INFORMATION_SCHEMA.TABLES \n",
    "    WHERE TABLE_TYPE = 'BASE TABLE'\n",
    "\"\"\")\n",
    "# Lấy kết quả\n",
    "tables = [row[0] for row in cursor.fetchall()]\n",
    "\n",
    "# In tên các bảng\n",
    "print(\"Danh sách các bảng trong database:\")\n",
    "for table in tables:\n",
    "    print(table)\n",
    "\n",
    "# Đóng kết nối\n",
    "cursor.close()\n",
    "conn.close()"
   ]
  },
  {
   "cell_type": "code",
   "execution_count": 28,
   "metadata": {},
   "outputs": [],
   "source": [
    "def get_table_info(query):\n",
    "    conn = pyodbc.connect(conn_str)\n",
    "    cursor = conn.cursor()\n",
    "\n",
    "    cursor.execute(f\"{query}\")\n",
    "\n",
    "    # Lấy tên các cột\n",
    "    columns = [column[0] for column in cursor.description]\n",
    "\n",
    "    # Lấy dữ liệu và chuyển đổi thành list of dictionaries\n",
    "    rows = cursor.fetchall()\n",
    "    data = [dict(zip(columns, row)) for row in rows]\n",
    "\n",
    "    # In dữ liệu dưới dạng dictionaries\n",
    "    print(data)\n",
    "    # conn.commit()\n",
    "    cursor.close()\n",
    "    conn.close()"
   ]
  },
  {
   "cell_type": "code",
   "execution_count": 29,
   "metadata": {},
   "outputs": [
    {
     "name": "stdout",
     "output_type": "stream",
     "text": [
      "[{'ID': 1, 'MaHD': 'HD00001', 'MaHH': 'HH0019', 'SoLuongBan': 1, 'DonGia': 11000, 'ThanhTien': 11000}, {'ID': 2, 'MaHD': 'HD00001', 'MaHH': 'HH0020', 'SoLuongBan': 2, 'DonGia': 11000, 'ThanhTien': 22000}, {'ID': 3, 'MaHD': 'HD00001', 'MaHH': 'HH0021', 'SoLuongBan': 1, 'DonGia': 11000, 'ThanhTien': 11000}, {'ID': 4, 'MaHD': 'HD00002', 'MaHH': 'HH0022', 'SoLuongBan': 2, 'DonGia': 28000, 'ThanhTien': 56000}, {'ID': 5, 'MaHD': 'HD00002', 'MaHH': 'HH0023', 'SoLuongBan': 1, 'DonGia': 11000, 'ThanhTien': 11000}, {'ID': 6, 'MaHD': 'HD00002', 'MaHH': 'HH0024', 'SoLuongBan': 2, 'DonGia': 15000, 'ThanhTien': 30000}, {'ID': 7, 'MaHD': 'HD00002', 'MaHH': 'HH0025', 'SoLuongBan': 2, 'DonGia': 6000, 'ThanhTien': 12000}, {'ID': 8, 'MaHD': 'HD00003', 'MaHH': 'HH0026', 'SoLuongBan': 1, 'DonGia': 10000, 'ThanhTien': 10000}, {'ID': 9, 'MaHD': 'HD00003', 'MaHH': 'HH0027', 'SoLuongBan': 1, 'DonGia': 11000, 'ThanhTien': 11000}, {'ID': 10, 'MaHD': 'HD00004', 'MaHH': 'HH0028', 'SoLuongBan': 1, 'DonGia': 11000, 'ThanhTien': 11000}, {'ID': 11, 'MaHD': 'HD00004', 'MaHH': 'HH0029', 'SoLuongBan': 1, 'DonGia': 11000, 'ThanhTien': 11000}, {'ID': 12, 'MaHD': 'HD00004', 'MaHH': 'HH0030', 'SoLuongBan': 1, 'DonGia': 11000, 'ThanhTien': 11000}, {'ID': 13, 'MaHD': 'HD00004', 'MaHH': 'HH0031', 'SoLuongBan': 2, 'DonGia': 11000, 'ThanhTien': 22000}, {'ID': 14, 'MaHD': 'HD00004', 'MaHH': 'HH0032', 'SoLuongBan': 1, 'DonGia': 16000, 'ThanhTien': 16000}, {'ID': 15, 'MaHD': 'HD00004', 'MaHH': 'HH0033', 'SoLuongBan': 1, 'DonGia': 11000, 'ThanhTien': 11000}, {'ID': 16, 'MaHD': 'HD00004', 'MaHH': 'HH0034', 'SoLuongBan': 1, 'DonGia': 11000, 'ThanhTien': 11000}, {'ID': 17, 'MaHD': 'HD00004', 'MaHH': 'HH0035', 'SoLuongBan': 1, 'DonGia': 10000, 'ThanhTien': 10000}, {'ID': 18, 'MaHD': 'HD00004', 'MaHH': 'HH0036', 'SoLuongBan': 1, 'DonGia': 28000, 'ThanhTien': 28000}, {'ID': 19, 'MaHD': 'HD00004', 'MaHH': 'HH0037', 'SoLuongBan': 1, 'DonGia': 14000, 'ThanhTien': 14000}, {'ID': 20, 'MaHD': 'HD00005', 'MaHH': 'HH0038', 'SoLuongBan': 2, 'DonGia': 15000, 'ThanhTien': 30000}, {'ID': 21, 'MaHD': 'HD00006', 'MaHH': 'HH0039', 'SoLuongBan': 1, 'DonGia': 11000, 'ThanhTien': 11000}, {'ID': 22, 'MaHD': 'HD00006', 'MaHH': 'HH0040', 'SoLuongBan': 2, 'DonGia': 11000, 'ThanhTien': 22000}, {'ID': 23, 'MaHD': 'HD00007', 'MaHH': 'HH0041', 'SoLuongBan': 1, 'DonGia': 11000, 'ThanhTien': 11000}, {'ID': 24, 'MaHD': 'HD00007', 'MaHH': 'HH0042', 'SoLuongBan': 1, 'DonGia': 11000, 'ThanhTien': 11000}, {'ID': 25, 'MaHD': 'HD00008', 'MaHH': 'HH0043', 'SoLuongBan': 1, 'DonGia': 11000, 'ThanhTien': 11000}, {'ID': 26, 'MaHD': 'HD00009', 'MaHH': 'HH0044', 'SoLuongBan': 2, 'DonGia': 15000, 'ThanhTien': 30000}, {'ID': 27, 'MaHD': 'HD00009', 'MaHH': 'HH0045', 'SoLuongBan': 1, 'DonGia': 30000, 'ThanhTien': 30000}, {'ID': 28, 'MaHD': 'HD00010', 'MaHH': 'HH0046', 'SoLuongBan': 2, 'DonGia': 11000, 'ThanhTien': 22000}, {'ID': 29, 'MaHD': 'HD00010', 'MaHH': 'HH0047', 'SoLuongBan': 2, 'DonGia': 10000, 'ThanhTien': 20000}, {'ID': 30, 'MaHD': 'HD00010', 'MaHH': 'HH0048', 'SoLuongBan': 1, 'DonGia': 11000, 'ThanhTien': 11000}, {'ID': 31, 'MaHD': 'HD00010', 'MaHH': 'HH0049', 'SoLuongBan': 2, 'DonGia': 28000, 'ThanhTien': 56000}, {'ID': 32, 'MaHD': 'HD00010', 'MaHH': 'HH0050', 'SoLuongBan': 2, 'DonGia': 11000, 'ThanhTien': 22000}, {'ID': 33, 'MaHD': 'HD00010', 'MaHH': 'HH0051', 'SoLuongBan': 1, 'DonGia': 15000, 'ThanhTien': 15000}, {'ID': 34, 'MaHD': 'HD00010', 'MaHH': 'HH0052', 'SoLuongBan': 1, 'DonGia': 10000, 'ThanhTien': 10000}, {'ID': 35, 'MaHD': 'HD00011', 'MaHH': 'HH0053', 'SoLuongBan': 1, 'DonGia': 11000, 'ThanhTien': 11000}, {'ID': 36, 'MaHD': 'HD00011', 'MaHH': 'HH0054', 'SoLuongBan': 1, 'DonGia': 12000, 'ThanhTien': 12000}, {'ID': 37, 'MaHD': 'HD00011', 'MaHH': 'HH0055', 'SoLuongBan': 1, 'DonGia': 6000, 'ThanhTien': 6000}, {'ID': 38, 'MaHD': 'HD00011', 'MaHH': 'HH0056', 'SoLuongBan': 2, 'DonGia': 14000, 'ThanhTien': 28000}, {'ID': 39, 'MaHD': 'HD00011', 'MaHH': 'HH0057', 'SoLuongBan': 1, 'DonGia': 15000, 'ThanhTien': 15000}, {'ID': 40, 'MaHD': 'HD00011', 'MaHH': 'HH0058', 'SoLuongBan': 1, 'DonGia': 15000, 'ThanhTien': 15000}, {'ID': 41, 'MaHD': 'HD00012', 'MaHH': 'HH0059', 'SoLuongBan': 2, 'DonGia': 11000, 'ThanhTien': 22000}, {'ID': 42, 'MaHD': 'HD00012', 'MaHH': 'HH0060', 'SoLuongBan': 2, 'DonGia': 15000, 'ThanhTien': 30000}, {'ID': 43, 'MaHD': 'HD00012', 'MaHH': 'HH0061', 'SoLuongBan': 1, 'DonGia': 10000, 'ThanhTien': 10000}, {'ID': 44, 'MaHD': 'HD00012', 'MaHH': 'HH0062', 'SoLuongBan': 2, 'DonGia': 15000, 'ThanhTien': 30000}, {'ID': 45, 'MaHD': 'HD00012', 'MaHH': 'HH0063', 'SoLuongBan': 1, 'DonGia': 10000, 'ThanhTien': 10000}, {'ID': 46, 'MaHD': 'HD00012', 'MaHH': 'HH0064', 'SoLuongBan': 1, 'DonGia': 10000, 'ThanhTien': 10000}, {'ID': 47, 'MaHD': 'HD00012', 'MaHH': 'HH0065', 'SoLuongBan': 1, 'DonGia': 11000, 'ThanhTien': 11000}, {'ID': 48, 'MaHD': 'HD00012', 'MaHH': 'HH0066', 'SoLuongBan': 1, 'DonGia': 10000, 'ThanhTien': 10000}, {'ID': 49, 'MaHD': 'HD00013', 'MaHH': 'HH0067', 'SoLuongBan': 3, 'DonGia': 11000, 'ThanhTien': 33000}, {'ID': 50, 'MaHD': 'HD00014', 'MaHH': 'HH0068', 'SoLuongBan': 1, 'DonGia': 18000, 'ThanhTien': 18000}, {'ID': 51, 'MaHD': 'HD00015', 'MaHH': 'HH0069', 'SoLuongBan': 2, 'DonGia': 11000, 'ThanhTien': 22000}, {'ID': 52, 'MaHD': 'HD00016', 'MaHH': 'HH0070', 'SoLuongBan': 2, 'DonGia': 10000, 'ThanhTien': 20000}, {'ID': 53, 'MaHD': 'HD00016', 'MaHH': 'HH0071', 'SoLuongBan': 1, 'DonGia': 10000, 'ThanhTien': 10000}, {'ID': 54, 'MaHD': 'HD00017', 'MaHH': 'HH0072', 'SoLuongBan': 1, 'DonGia': 11000, 'ThanhTien': 11000}, {'ID': 55, 'MaHD': 'HD00018', 'MaHH': 'HH0073', 'SoLuongBan': 2, 'DonGia': 10000, 'ThanhTien': 20000}, {'ID': 56, 'MaHD': 'HD00018', 'MaHH': 'HH0074', 'SoLuongBan': 2, 'DonGia': 11000, 'ThanhTien': 22000}, {'ID': 57, 'MaHD': 'HD00018', 'MaHH': 'HH0075', 'SoLuongBan': 1, 'DonGia': 12000, 'ThanhTien': 12000}, {'ID': 58, 'MaHD': 'HD00018', 'MaHH': 'HH0076', 'SoLuongBan': 1, 'DonGia': 11000, 'ThanhTien': 11000}, {'ID': 59, 'MaHD': 'HD00019', 'MaHH': 'HH0077', 'SoLuongBan': 1, 'DonGia': 11000, 'ThanhTien': 11000}, {'ID': 60, 'MaHD': 'HD00019', 'MaHH': 'HH0078', 'SoLuongBan': 1, 'DonGia': 10000, 'ThanhTien': 10000}, {'ID': 61, 'MaHD': 'HD00019', 'MaHH': 'HH0079', 'SoLuongBan': 1, 'DonGia': 11000, 'ThanhTien': 11000}, {'ID': 62, 'MaHD': 'HD00020', 'MaHH': 'HH0080', 'SoLuongBan': 2, 'DonGia': 15000, 'ThanhTien': 30000}, {'ID': 63, 'MaHD': 'HD00020', 'MaHH': 'HH0081', 'SoLuongBan': 1, 'DonGia': 11000, 'ThanhTien': 11000}, {'ID': 64, 'MaHD': 'HD00020', 'MaHH': 'HH0082', 'SoLuongBan': 2, 'DonGia': 10000, 'ThanhTien': 20000}, {'ID': 65, 'MaHD': 'HD00020', 'MaHH': 'HH0083', 'SoLuongBan': 1, 'DonGia': 11000, 'ThanhTien': 11000}, {'ID': 66, 'MaHD': 'HD00020', 'MaHH': 'HH0084', 'SoLuongBan': 2, 'DonGia': 11000, 'ThanhTien': 22000}, {'ID': 67, 'MaHD': 'HD00021', 'MaHH': 'HH0085', 'SoLuongBan': 2, 'DonGia': 15000, 'ThanhTien': 30000}, {'ID': 68, 'MaHD': 'HD00021', 'MaHH': 'HH0086', 'SoLuongBan': 1, 'DonGia': 15000, 'ThanhTien': 15000}, {'ID': 69, 'MaHD': 'HD00021', 'MaHH': 'HH0087', 'SoLuongBan': 2, 'DonGia': 11000, 'ThanhTien': 22000}, {'ID': 70, 'MaHD': 'HD00021', 'MaHH': 'HH0088', 'SoLuongBan': 1, 'DonGia': 10000, 'ThanhTien': 10000}, {'ID': 71, 'MaHD': 'HD00021', 'MaHH': 'HH0089', 'SoLuongBan': 1, 'DonGia': 15000, 'ThanhTien': 15000}, {'ID': 72, 'MaHD': 'HD00021', 'MaHH': 'HH0090', 'SoLuongBan': 1, 'DonGia': 15000, 'ThanhTien': 15000}, {'ID': 73, 'MaHD': 'HD00021', 'MaHH': 'HH0091', 'SoLuongBan': 2, 'DonGia': 15000, 'ThanhTien': 30000}, {'ID': 74, 'MaHD': 'HD00021', 'MaHH': 'HH0092', 'SoLuongBan': 1, 'DonGia': 11000, 'ThanhTien': 11000}, {'ID': 75, 'MaHD': 'HD00021', 'MaHH': 'HH0093', 'SoLuongBan': 2, 'DonGia': 11000, 'ThanhTien': 22000}, {'ID': 76, 'MaHD': 'HD00021', 'MaHH': 'HH0094', 'SoLuongBan': 1, 'DonGia': 10000, 'ThanhTien': 10000}, {'ID': 77, 'MaHD': 'HD00022', 'MaHH': 'HH0095', 'SoLuongBan': 1, 'DonGia': 12000, 'ThanhTien': 12000}, {'ID': 78, 'MaHD': 'HD00022', 'MaHH': 'HH0096', 'SoLuongBan': 1, 'DonGia': 18000, 'ThanhTien': 18000}, {'ID': 79, 'MaHD': 'HD00022', 'MaHH': 'HH0097', 'SoLuongBan': 1, 'DonGia': 11000, 'ThanhTien': 11000}, {'ID': 80, 'MaHD': 'HD00023', 'MaHH': 'HH0098', 'SoLuongBan': 1, 'DonGia': 14000, 'ThanhTien': 14000}, {'ID': 81, 'MaHD': 'HD00024', 'MaHH': 'HH0099', 'SoLuongBan': 1, 'DonGia': 11000, 'ThanhTien': 11000}, {'ID': 82, 'MaHD': 'HD00025', 'MaHH': 'HH0100', 'SoLuongBan': 2, 'DonGia': 11000, 'ThanhTien': 22000}, {'ID': 83, 'MaHD': 'HD00025', 'MaHH': 'HH0101', 'SoLuongBan': 1, 'DonGia': 28000, 'ThanhTien': 28000}, {'ID': 84, 'MaHD': 'HD00025', 'MaHH': 'HH0102', 'SoLuongBan': 1, 'DonGia': 11000, 'ThanhTien': 11000}, {'ID': 85, 'MaHD': 'HD00025', 'MaHH': 'HH0103', 'SoLuongBan': 2, 'DonGia': 12000, 'ThanhTien': 24000}, {'ID': 86, 'MaHD': 'HD00025', 'MaHH': 'HH0104', 'SoLuongBan': 1, 'DonGia': 15000, 'ThanhTien': 15000}, {'ID': 87, 'MaHD': 'HD00026', 'MaHH': 'HH0105', 'SoLuongBan': 1, 'DonGia': 11000, 'ThanhTien': 11000}, {'ID': 88, 'MaHD': 'HD00026', 'MaHH': 'HH0106', 'SoLuongBan': 2, 'DonGia': 15000, 'ThanhTien': 30000}, {'ID': 89, 'MaHD': 'HD00026', 'MaHH': 'HH0107', 'SoLuongBan': 2, 'DonGia': 10000, 'ThanhTien': 20000}, {'ID': 90, 'MaHD': 'HD00026', 'MaHH': 'HH0108', 'SoLuongBan': 1, 'DonGia': 11000, 'ThanhTien': 11000}, {'ID': 91, 'MaHD': 'HD00026', 'MaHH': 'HH0109', 'SoLuongBan': 1, 'DonGia': 11000, 'ThanhTien': 11000}, {'ID': 92, 'MaHD': 'HD00026', 'MaHH': 'HH0110', 'SoLuongBan': 2, 'DonGia': 11000, 'ThanhTien': 22000}, {'ID': 93, 'MaHD': 'HD00026', 'MaHH': 'HH0111', 'SoLuongBan': 1, 'DonGia': 11000, 'ThanhTien': 11000}, {'ID': 94, 'MaHD': 'HD00026', 'MaHH': 'HH0112', 'SoLuongBan': 1, 'DonGia': 6000, 'ThanhTien': 6000}, {'ID': 95, 'MaHD': 'HD00026', 'MaHH': 'HH0113', 'SoLuongBan': 1, 'DonGia': 10000, 'ThanhTien': 10000}, {'ID': 96, 'MaHD': 'HD00026', 'MaHH': 'HH0114', 'SoLuongBan': 1, 'DonGia': 15000, 'ThanhTien': 15000}, {'ID': 97, 'MaHD': 'HD00027', 'MaHH': 'HH0115', 'SoLuongBan': 1, 'DonGia': 10000, 'ThanhTien': 10000}, {'ID': 98, 'MaHD': 'HD00027', 'MaHH': 'HH0116', 'SoLuongBan': 1, 'DonGia': 12000, 'ThanhTien': 12000}, {'ID': 99, 'MaHD': 'HD00027', 'MaHH': 'HH0117', 'SoLuongBan': 2, 'DonGia': 12000, 'ThanhTien': 24000}, {'ID': 100, 'MaHD': 'HD00028', 'MaHH': 'HH0118', 'SoLuongBan': 1, 'DonGia': 11000, 'ThanhTien': 11000}]\n"
     ]
    }
   ],
   "source": [
    "query =''' \n",
    "    SELECT \n",
    "        *\n",
    "    FROM ChiTietHoaDon\n",
    "'''\n",
    "get_table_info(query)"
   ]
  },
  {
   "cell_type": "code",
   "execution_count": 30,
   "metadata": {},
   "outputs": [
    {
     "name": "stdout",
     "output_type": "stream",
     "text": [
      "[{'MaHD': 'HD00001', 'MaKhachHang': 'KH00000666', 'MaNhanVien': 'NV0049', 'NgayLap': datetime.datetime(2024, 3, 1, 0, 0), 'TongTien': 44000}, {'MaHD': 'HD00002', 'MaKhachHang': 'KH00000691', 'MaNhanVien': 'NV0027', 'NgayLap': datetime.datetime(2024, 3, 2, 0, 0), 'TongTien': 109000}, {'MaHD': 'HD00003', 'MaKhachHang': 'KH00000537', 'MaNhanVien': 'NV0036', 'NgayLap': datetime.datetime(2024, 3, 3, 0, 0), 'TongTien': 21000}, {'MaHD': 'HD00004', 'MaKhachHang': 'KH00000961', 'MaNhanVien': 'NV0091', 'NgayLap': datetime.datetime(2024, 3, 4, 0, 0), 'TongTien': 145000}, {'MaHD': 'HD00005', 'MaKhachHang': 'KH00000919', 'MaNhanVien': 'NV0024', 'NgayLap': datetime.datetime(2024, 3, 5, 0, 0), 'TongTien': 30000}, {'MaHD': 'HD00006', 'MaKhachHang': 'KH00000027', 'MaNhanVien': 'NV0066', 'NgayLap': datetime.datetime(2024, 3, 6, 0, 0), 'TongTien': 33000}, {'MaHD': 'HD00007', 'MaKhachHang': 'KH00000303', 'MaNhanVien': 'NV0069', 'NgayLap': datetime.datetime(2024, 3, 7, 0, 0), 'TongTien': 22000}, {'MaHD': 'HD00008', 'MaKhachHang': 'KH00000834', 'MaNhanVien': 'NV0004', 'NgayLap': datetime.datetime(2024, 3, 8, 0, 0), 'TongTien': 11000}, {'MaHD': 'HD00009', 'MaKhachHang': 'KH00000327', 'MaNhanVien': 'NV0012', 'NgayLap': datetime.datetime(2024, 3, 9, 0, 0), 'TongTien': 60000}, {'MaHD': 'HD00010', 'MaKhachHang': 'KH00000249', 'MaNhanVien': 'NV0046', 'NgayLap': datetime.datetime(2024, 3, 10, 0, 0), 'TongTien': 156000}, {'MaHD': 'HD00011', 'MaKhachHang': 'KH00000408', 'MaNhanVien': 'NV0090', 'NgayLap': datetime.datetime(2024, 3, 11, 0, 0), 'TongTien': 87000}, {'MaHD': 'HD00012', 'MaKhachHang': 'KH00000241', 'MaNhanVien': 'NV0075', 'NgayLap': datetime.datetime(2024, 3, 12, 0, 0), 'TongTien': 133000}, {'MaHD': 'HD00013', 'MaKhachHang': 'KH00000085', 'MaNhanVien': 'NV0036', 'NgayLap': datetime.datetime(2024, 3, 13, 0, 0), 'TongTien': 33000}, {'MaHD': 'HD00014', 'MaKhachHang': 'KH00000842', 'MaNhanVien': 'NV0070', 'NgayLap': datetime.datetime(2024, 3, 14, 0, 0), 'TongTien': 18000}, {'MaHD': 'HD00015', 'MaKhachHang': 'KH00000744', 'MaNhanVien': 'NV0065', 'NgayLap': datetime.datetime(2024, 3, 15, 0, 0), 'TongTien': 22000}, {'MaHD': 'HD00016', 'MaKhachHang': 'KH00000149', 'MaNhanVien': 'NV0060', 'NgayLap': datetime.datetime(2024, 3, 16, 0, 0), 'TongTien': 30000}, {'MaHD': 'HD00017', 'MaKhachHang': 'KH00000932', 'MaNhanVien': 'NV0001', 'NgayLap': datetime.datetime(2024, 3, 17, 0, 0), 'TongTien': 11000}, {'MaHD': 'HD00018', 'MaKhachHang': 'KH00000723', 'MaNhanVien': 'NV0012', 'NgayLap': datetime.datetime(2024, 3, 18, 0, 0), 'TongTien': 65000}, {'MaHD': 'HD00019', 'MaKhachHang': 'KH00000894', 'MaNhanVien': 'NV0044', 'NgayLap': datetime.datetime(2024, 3, 19, 0, 0), 'TongTien': 32000}, {'MaHD': 'HD00020', 'MaKhachHang': 'KH00000503', 'MaNhanVien': 'NV0031', 'NgayLap': datetime.datetime(2024, 3, 20, 0, 0), 'TongTien': 94000}, {'MaHD': 'HD00021', 'MaKhachHang': 'KH00000604', 'MaNhanVien': 'NV0024', 'NgayLap': datetime.datetime(2024, 3, 21, 0, 0), 'TongTien': 180000}, {'MaHD': 'HD00022', 'MaKhachHang': 'KH00000552', 'MaNhanVien': 'NV0035', 'NgayLap': datetime.datetime(2024, 3, 22, 0, 0), 'TongTien': 41000}, {'MaHD': 'HD00023', 'MaKhachHang': 'KH00000805', 'MaNhanVien': 'NV0024', 'NgayLap': datetime.datetime(2024, 3, 23, 0, 0), 'TongTien': 14000}, {'MaHD': 'HD00024', 'MaKhachHang': 'KH00000016', 'MaNhanVien': 'NV0033', 'NgayLap': datetime.datetime(2024, 3, 24, 0, 0), 'TongTien': 11000}, {'MaHD': 'HD00025', 'MaKhachHang': 'KH00000121', 'MaNhanVien': 'NV0039', 'NgayLap': datetime.datetime(2024, 3, 25, 0, 0), 'TongTien': 100000}, {'MaHD': 'HD00026', 'MaKhachHang': 'KH00000595', 'MaNhanVien': 'NV0080', 'NgayLap': datetime.datetime(2024, 3, 26, 0, 0), 'TongTien': 147000}, {'MaHD': 'HD00027', 'MaKhachHang': 'KH00000260', 'MaNhanVien': 'NV0057', 'NgayLap': datetime.datetime(2024, 3, 27, 0, 0), 'TongTien': 46000}, {'MaHD': 'HD00028', 'MaKhachHang': 'KH00000894', 'MaNhanVien': 'NV0058', 'NgayLap': datetime.datetime(2024, 3, 28, 0, 0), 'TongTien': 11000}]\n"
     ]
    }
   ],
   "source": [
    "query =''' \n",
    "    SELECT \n",
    "        *\n",
    "    FROM HoaDonBanHang\n",
    "'''\n",
    "get_table_info(query)"
   ]
  },
  {
   "cell_type": "code",
   "execution_count": 31,
   "metadata": {},
   "outputs": [],
   "source": [
    "import pyodbc\n",
    "\n",
    "def table_info():\n",
    "    conn = pyodbc.connect(conn_str)\n",
    "    cursor = conn.cursor()\n",
    "\n",
    "    # Lấy tất cả bảng người dùng\n",
    "    table_query = \"\"\"\n",
    "    SELECT name\n",
    "    FROM sys.tables\n",
    "    WHERE is_ms_shipped = 0\n",
    "    ORDER BY name;\n",
    "    \"\"\"\n",
    "    cursor.execute(table_query)\n",
    "    tables = [row[0] for row in cursor.fetchall()]\n",
    "\n",
    "    all_schema_info = []\n",
    "\n",
    "    for table in tables:\n",
    "        column_query = f\"\"\"\n",
    "        SELECT \n",
    "            t.name AS table_name,\n",
    "            c.name AS column_name,\n",
    "            ty.name AS data_type\n",
    "        FROM sys.columns c\n",
    "        JOIN sys.types ty ON c.user_type_id = ty.user_type_id\n",
    "        JOIN sys.tables t ON t.object_id = c.object_id\n",
    "        WHERE t.name = '{table}'\n",
    "        ORDER BY c.column_id;\n",
    "        \"\"\"\n",
    "        cursor.execute(column_query)\n",
    "        columns = [column[0] for column in cursor.description]\n",
    "        rows = cursor.fetchall()\n",
    "        for row in rows:\n",
    "            column_info = dict(zip(columns, row))\n",
    "            all_schema_info.append(column_info)\n",
    "\n",
    "    cursor.close()\n",
    "    conn.close()\n",
    "    return all_schema_info\n"
   ]
  },
  {
   "cell_type": "code",
   "execution_count": 32,
   "metadata": {},
   "outputs": [
    {
     "data": {
      "text/plain": [
       "[{'table_name': 'ChiTietHoaDon', 'column_name': 'ID', 'data_type': 'int'},\n",
       " {'table_name': 'ChiTietHoaDon',\n",
       "  'column_name': 'MaHD',\n",
       "  'data_type': 'nvarchar'},\n",
       " {'table_name': 'ChiTietHoaDon',\n",
       "  'column_name': 'MaHH',\n",
       "  'data_type': 'nvarchar'},\n",
       " {'table_name': 'ChiTietHoaDon',\n",
       "  'column_name': 'SoLuongBan',\n",
       "  'data_type': 'int'},\n",
       " {'table_name': 'ChiTietHoaDon', 'column_name': 'DonGia', 'data_type': 'int'},\n",
       " {'table_name': 'ChiTietHoaDon',\n",
       "  'column_name': 'ThanhTien',\n",
       "  'data_type': 'int'},\n",
       " {'table_name': 'CongThuc', 'column_name': 'ID', 'data_type': 'int'},\n",
       " {'table_name': 'CongThuc', 'column_name': 'MaCT', 'data_type': 'nvarchar'},\n",
       " {'table_name': 'CongThuc', 'column_name': 'MaNL', 'data_type': 'nvarchar'},\n",
       " {'table_name': 'CongThuc',\n",
       "  'column_name': 'DonViTinh',\n",
       "  'data_type': 'nvarchar'},\n",
       " {'table_name': 'CongThuc', 'column_name': 'MaHH', 'data_type': 'nvarchar'},\n",
       " {'table_name': 'CongThuc', 'column_name': 'SoLuong', 'data_type': 'int'},\n",
       " {'table_name': 'HinhAnh', 'column_name': 'MaHH', 'data_type': 'nvarchar'},\n",
       " {'table_name': 'HinhAnh', 'column_name': 'MaLoaiHH', 'data_type': 'nvarchar'},\n",
       " {'table_name': 'HinhAnh', 'column_name': 'TenHH', 'data_type': 'nvarchar'},\n",
       " {'table_name': 'HinhAnh', 'column_name': 'DonGia', 'data_type': 'int'},\n",
       " {'table_name': 'HinhAnh', 'column_name': 'MaNCC', 'data_type': 'nvarchar'},\n",
       " {'table_name': 'HinhAnh', 'column_name': 'Link', 'data_type': 'nvarchar'},\n",
       " {'table_name': 'HoaDonBanHang',\n",
       "  'column_name': 'MaHD',\n",
       "  'data_type': 'nvarchar'},\n",
       " {'table_name': 'HoaDonBanHang',\n",
       "  'column_name': 'MaKhachHang',\n",
       "  'data_type': 'nvarchar'},\n",
       " {'table_name': 'HoaDonBanHang',\n",
       "  'column_name': 'MaNhanVien',\n",
       "  'data_type': 'nvarchar'},\n",
       " {'table_name': 'HoaDonBanHang',\n",
       "  'column_name': 'NgayLap',\n",
       "  'data_type': 'datetime'},\n",
       " {'table_name': 'HoaDonBanHang',\n",
       "  'column_name': 'TongTien',\n",
       "  'data_type': 'int'},\n",
       " {'table_name': 'KhachHang',\n",
       "  'column_name': 'MaKhachHang',\n",
       "  'data_type': 'nvarchar'},\n",
       " {'table_name': 'KhachHang',\n",
       "  'column_name': 'TenKhachHang',\n",
       "  'data_type': 'nvarchar'},\n",
       " {'table_name': 'KhachHang',\n",
       "  'column_name': 'GioiTinh',\n",
       "  'data_type': 'nvarchar'},\n",
       " {'table_name': 'KhachHang', 'column_name': 'SoDienThoai', 'data_type': 'int'},\n",
       " {'table_name': 'KhachHang', 'column_name': 'DiaChi', 'data_type': 'nvarchar'},\n",
       " {'table_name': 'KhachHang',\n",
       "  'column_name': 'MaLoaiKH',\n",
       "  'data_type': 'nvarchar'},\n",
       " {'table_name': 'LoaiHangHoa',\n",
       "  'column_name': 'MaLoaiHH',\n",
       "  'data_type': 'nvarchar'},\n",
       " {'table_name': 'LoaiHangHoa',\n",
       "  'column_name': 'TenLoaiHH',\n",
       "  'data_type': 'nvarchar'},\n",
       " {'table_name': 'LoaiKhachHang',\n",
       "  'column_name': 'MaLoaiKH',\n",
       "  'data_type': 'nvarchar'},\n",
       " {'table_name': 'LoaiKhachHang',\n",
       "  'column_name': 'TenLoaiKH',\n",
       "  'data_type': 'nvarchar'},\n",
       " {'table_name': 'NguyenLieu', 'column_name': 'MaNL', 'data_type': 'nvarchar'},\n",
       " {'table_name': 'NguyenLieu', 'column_name': 'MaNCC', 'data_type': 'nvarchar'},\n",
       " {'table_name': 'NguyenLieu', 'column_name': 'MaHH', 'data_type': 'nvarchar'},\n",
       " {'table_name': 'NguyenLieu', 'column_name': 'TenNL', 'data_type': 'nvarchar'},\n",
       " {'table_name': 'NguyenLieu',\n",
       "  'column_name': 'DonViTinh',\n",
       "  'data_type': 'nvarchar'},\n",
       " {'table_name': 'NguyenLieu', 'column_name': 'SoLuong', 'data_type': 'int'},\n",
       " {'table_name': 'NhaCungCap', 'column_name': 'MaNCC', 'data_type': 'nvarchar'},\n",
       " {'table_name': 'NhaCungCap',\n",
       "  'column_name': 'TenNCC',\n",
       "  'data_type': 'nvarchar'},\n",
       " {'table_name': 'NhaCungCap',\n",
       "  'column_name': 'DiaChi',\n",
       "  'data_type': 'nvarchar'},\n",
       " {'table_name': 'NhaCungCap',\n",
       "  'column_name': 'SoDienThoai',\n",
       "  'data_type': 'int'},\n",
       " {'table_name': 'NhanVien',\n",
       "  'column_name': 'MaNhanVien',\n",
       "  'data_type': 'nvarchar'},\n",
       " {'table_name': 'NhanVien',\n",
       "  'column_name': 'TenNhanVien',\n",
       "  'data_type': 'nvarchar'},\n",
       " {'table_name': 'NhanVien', 'column_name': 'SoDienThoai', 'data_type': 'int'},\n",
       " {'table_name': 'NhanVien', 'column_name': 'Email', 'data_type': 'nvarchar'},\n",
       " {'table_name': 'NhanVien', 'column_name': 'MaCa', 'data_type': 'nvarchar'},\n",
       " {'table_name': 'sysdiagrams', 'column_name': 'name', 'data_type': 'sysname'},\n",
       " {'table_name': 'sysdiagrams',\n",
       "  'column_name': 'principal_id',\n",
       "  'data_type': 'int'},\n",
       " {'table_name': 'sysdiagrams',\n",
       "  'column_name': 'diagram_id',\n",
       "  'data_type': 'int'},\n",
       " {'table_name': 'sysdiagrams', 'column_name': 'version', 'data_type': 'int'},\n",
       " {'table_name': 'sysdiagrams',\n",
       "  'column_name': 'definition',\n",
       "  'data_type': 'varbinary'},\n",
       " {'table_name': 'ThucDon', 'column_name': 'MaHH', 'data_type': 'nvarchar'},\n",
       " {'table_name': 'ThucDon', 'column_name': 'MaLoaiHH', 'data_type': 'nvarchar'},\n",
       " {'table_name': 'ThucDon', 'column_name': 'TenHH', 'data_type': 'nvarchar'},\n",
       " {'table_name': 'ThucDon', 'column_name': 'DonGia', 'data_type': 'int'},\n",
       " {'table_name': 'ThucDon', 'column_name': 'MaNCC', 'data_type': 'nvarchar'},\n",
       " {'table_name': 'ThucDon', 'column_name': 'Link', 'data_type': 'nvarchar'},\n",
       " {'table_name': 'TonKho', 'column_name': 'MaNL', 'data_type': 'nvarchar'},\n",
       " {'table_name': 'TonKho', 'column_name': 'MaNCC', 'data_type': 'nvarchar'},\n",
       " {'table_name': 'TonKho', 'column_name': 'MaHH', 'data_type': 'nvarchar'},\n",
       " {'table_name': 'TonKho', 'column_name': 'TenNL', 'data_type': 'nvarchar'},\n",
       " {'table_name': 'TonKho', 'column_name': 'DonViTinh', 'data_type': 'nvarchar'},\n",
       " {'table_name': 'TonKho', 'column_name': 'SoLuongBanDau', 'data_type': 'int'},\n",
       " {'table_name': 'TonKho', 'column_name': 'SoLuong', 'data_type': 'int'}]"
      ]
     },
     "execution_count": 32,
     "metadata": {},
     "output_type": "execute_result"
    }
   ],
   "source": [
    "table_info()"
   ]
  }
 ],
 "metadata": {
  "kernelspec": {
   "display_name": "bctt",
   "language": "python",
   "name": "python3"
  },
  "language_info": {
   "codemirror_mode": {
    "name": "ipython",
    "version": 3
   },
   "file_extension": ".py",
   "mimetype": "text/x-python",
   "name": "python",
   "nbconvert_exporter": "python",
   "pygments_lexer": "ipython3",
   "version": "3.9.16"
  }
 },
 "nbformat": 4,
 "nbformat_minor": 2
}
